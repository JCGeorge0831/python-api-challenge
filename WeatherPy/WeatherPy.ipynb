{
 "cells": [
  {
   "cell_type": "markdown",
   "metadata": {},
   "source": [
    "# WeatherPy\n",
    "----\n",
    "\n",
    "#### Note\n",
    "* Instructions have been included for each segment. You do not have to follow them exactly, but they are included to help you think through the steps."
   ]
  },
  {
   "cell_type": "markdown",
   "metadata": {},
   "source": [
    "Observational Trends\n",
    "1. In the latitude verse max temperature scatter plot there seems to be a pattern of increasing temperatures between 0 and 20 latitude which is right around the equator and then the temperatures seem to decrease when the latitude is larger than 20 degrees.\n",
    "2. For the general scatter plot between the latitude and cloudiness, the data points were randomly distributed and there does not seem to be any kind of relationship between the two, and there is more evidence pointing to that infrence seen on the scatterplot for the southern hemisphere's cloudiness and linear regression model.\n",
    "3. Another interesting trend is that the Southern Hemisphere seems to have weaker relationships with the latitude linear regressions for humidity, cloudiness, and wind speed whereas the Northern Hemisphere seems to have a bit more stronger relationships between the latiude linear regressions and its humidity, cloudiness, and wind speeds."
   ]
  },
  {
   "cell_type": "code",
   "execution_count": 1,
   "metadata": {
    "scrolled": true
   },
   "outputs": [],
   "source": [
    "# Dependencies and Setup\n",
    "import matplotlib.pyplot as plt\n",
    "import pandas as pd\n",
    "import numpy as np\n",
    "import requests\n",
    "import time\n",
    "from scipy.stats import linregress\n",
    "\n",
    "import random # importing random list of latitudes and longitudes\n",
    "\n",
    "# Import API key\n",
    "from api_keys import weather_api_key\n",
    "\n",
    "# Incorporated citipy to determine city based on latitude and longitude\n",
    "from citipy import citipy\n",
    "\n",
    "# Output File (CSV)\n",
    "output_data_file = \"output_data/cities.csv\"\n",
    "\n",
    "# Range of latitudes and longitudes\n",
    "lat_range = (-90, 90)\n",
    "lng_range = (-180, 180)"
   ]
  },
  {
   "cell_type": "markdown",
   "metadata": {},
   "source": [
    "## Generate Cities List"
   ]
  },
  {
   "cell_type": "code",
   "execution_count": 2,
   "metadata": {},
   "outputs": [
    {
     "data": {
      "text/plain": [
       "612"
      ]
     },
     "execution_count": 2,
     "metadata": {},
     "output_type": "execute_result"
    }
   ],
   "source": [
    "# List for holding lat_lngs and cities\n",
    "lat_lngs = []\n",
    "cities = []\n",
    "\n",
    "# Create a set of random lat and lng combinations\n",
    "lats = np.random.uniform(lat_range[0], lat_range[1], size=1500)\n",
    "lngs = np.random.uniform(lng_range[0], lng_range[1], size=1500)\n",
    "lat_lngs = zip(lats, lngs)\n",
    "\n",
    "\n",
    "\n",
    "# Identify nearest city for each lat, lng combination\n",
    "for lat_lng in lat_lngs:\n",
    "    city = citipy.nearest_city(lat_lng[0], lat_lng[1]).city_name\n",
    "    \n",
    "    # If the city is unique, then add it to a our cities list\n",
    "    if city not in cities:\n",
    "        cities.append(city)\n",
    "\n",
    "# Print the city count to confirm sufficient count\n",
    "len(cities)"
   ]
  },
  {
   "cell_type": "markdown",
   "metadata": {},
   "source": [
    "### Perform API Calls\n",
    "* Perform a weather check on each city using a series of successive API calls.\n",
    "* Include a print log of each city as it'sbeing processed (with the city number and city name).\n"
   ]
  },
  {
   "cell_type": "code",
   "execution_count": 3,
   "metadata": {},
   "outputs": [],
   "source": [
    "# url for the weathermap along with the api key\n",
    "url = \"http://api.openweathermap.org/data/2.5/weather?units=Imperial&APPID=\" + weather_api_key"
   ]
  },
  {
   "cell_type": "raw",
   "metadata": {},
   "source": [
    "# Pretty print\n",
    "from pprint import pprint \n",
    "pprint(weatherpy_data)"
   ]
  },
  {
   "cell_type": "code",
   "execution_count": 13,
   "metadata": {
    "scrolled": true
   },
   "outputs": [
    {
     "name": "stdout",
     "output_type": "stream",
     "text": [
      "Beginning Data Retrieval.\n",
      "--------------------------------\n",
      "Prosessing record 1 of Set 1| arraial do cabo\n",
      "Prosessing record 2 of Set 1| sarangani\n",
      "Prosessing record 3 of Set 1| praia da vitoria\n",
      "Prosessing record 4 of Set 1| ketchikan\n",
      "Prosessing record 5 of Set 1| laguna\n",
      "Prosessing record 6 of Set 1| victoria\n",
      "Prosessing record 7 of Set 1| provideniya\n",
      "Prosessing record 8 of Set 1| nelson bay\n",
      "Prosessing record 9 of Set 1| tiksi\n",
      "Prosessing record 10 of Set 1| tilichiki\n",
      "Prosessing record 11 of Set 1| katsuura\n",
      "Prosessing record 12 of Set 1| ferkessedougou\n",
      "Prosessing record 13 of Set 1| bandarbeyla\n",
      "Prosessing record 14 of Set 1| beira\n",
      "Prosessing record 15 of Set 1| ushuaia\n",
      "Prosessing record 16 of Set 1| miri\n",
      "Prosessing record 17 of Set 1| huinan\n",
      "Prosessing record 18 of Set 1| albany\n",
      "Prosessing record 19 of Set 1| sitka\n",
      "Prosessing record 20 of Set 1| bluff\n",
      "Prosessing record 21 of Set 1| mar del plata\n",
      "Prosessing record 22 of Set 1| nargana\n",
      "Prosessing record 23 of Set 1| kodiak\n",
      "Prosessing record 24 of Set 1| altay\n",
      "Prosessing record 25 of Set 1| kaitangata\n",
      "Prosessing record 26 of Set 1| tullow\n",
      "Prosessing record 27 of Set 1| bethel\n",
      "Prosessing record 28 of Set 1| marienburg\n",
      "Prosessing record 29 of Set 1| punta arenas\n",
      "Prosessing record 30 of Set 1| masunga\n",
      "Prosessing record 31 of Set 1| jardim\n",
      "Prosessing record 32 of Set 1| sydney\n",
      "Prosessing record 33 of Set 1| san patricio\n",
      "Prosessing record 34 of Set 1| svetlaya\n",
      "Prosessing record 35 of Set 1| atuona\n",
      "Prosessing record 36 of Set 1| castro\n",
      "Prosessing record 37 of Set 1| fortuna\n",
      "Prosessing record 38 of Set 1| grand gaube\n",
      "Prosessing record 39 of Set 1| cadillac\n",
      "Prosessing record 40 of Set 1| port elizabeth\n",
      "City not found. Skipping...\n",
      "Prosessing record 41 of Set 1| geraldton\n",
      "Prosessing record 42 of Set 1| saint george\n",
      "Prosessing record 43 of Set 1| vaini\n",
      "Prosessing record 44 of Set 1| tsuruoka\n",
      "Prosessing record 45 of Set 1| yar-sale\n",
      "Prosessing record 46 of Set 1| adrar\n",
      "Prosessing record 47 of Set 1| cape town\n",
      "Prosessing record 48 of Set 1| azul\n",
      "Prosessing record 49 of Set 1| hashtrud\n",
      "Prosessing record 1 of Set 2| longyearbyen\n",
      "Prosessing record 2 of Set 2| cherskiy\n",
      "Prosessing record 3 of Set 2| bilibino\n",
      "Prosessing record 4 of Set 2| saint-philippe\n",
      "Prosessing record 5 of Set 2| issoudun\n",
      "Prosessing record 6 of Set 2| khatanga\n",
      "Prosessing record 7 of Set 2| zalantun\n",
      "Prosessing record 8 of Set 2| mataura\n",
      "Prosessing record 9 of Set 2| dikson\n",
      "Prosessing record 10 of Set 2| keuruu\n",
      "Prosessing record 11 of Set 2| yulara\n",
      "Prosessing record 12 of Set 2| tigil\n",
      "Prosessing record 13 of Set 2| langreo\n",
      "Prosessing record 14 of Set 2| zhuhai\n",
      "Prosessing record 15 of Set 2| torbay\n",
      "Prosessing record 16 of Set 2| puerto ayora\n",
      "Prosessing record 17 of Set 2| okhotsk\n",
      "City not found. Skipping...\n",
      "Prosessing record 18 of Set 2| burgos\n",
      "Prosessing record 19 of Set 2| luena\n",
      "Prosessing record 20 of Set 2| saldanha\n",
      "Prosessing record 21 of Set 2| huanren\n",
      "Prosessing record 22 of Set 2| touros\n",
      "Prosessing record 23 of Set 2| esperance\n",
      "Prosessing record 24 of Set 2| bredasdorp\n",
      "Prosessing record 25 of Set 2| busselton\n",
      "Prosessing record 26 of Set 2| aklavik\n",
      "Prosessing record 27 of Set 2| the valley\n",
      "City not found. Skipping...\n",
      "Prosessing record 28 of Set 2| tuktoyaktuk\n",
      "Prosessing record 29 of Set 2| rikitea\n",
      "Prosessing record 30 of Set 2| mahebourg\n",
      "Prosessing record 31 of Set 2| cidreira\n",
      "Prosessing record 32 of Set 2| vanimo\n",
      "Prosessing record 33 of Set 2| inhambane\n",
      "Prosessing record 34 of Set 2| rocha\n",
      "Prosessing record 35 of Set 2| marsa matruh\n",
      "Prosessing record 36 of Set 2| veseloyarsk\n",
      "City not found. Skipping...\n",
      "Prosessing record 37 of Set 2| hithadhoo\n",
      "Prosessing record 38 of Set 2| hilo\n",
      "Prosessing record 39 of Set 2| butaritari\n",
      "Prosessing record 40 of Set 2| san policarpo\n",
      "Prosessing record 41 of Set 2| kupino\n",
      "Prosessing record 42 of Set 2| aykhal\n",
      "Prosessing record 43 of Set 2| chapais\n",
      "Prosessing record 44 of Set 2| mount gambier\n",
      "Prosessing record 45 of Set 2| barrow\n",
      "Prosessing record 46 of Set 2| batavia\n",
      "Prosessing record 47 of Set 2| ponta do sol\n",
      "Prosessing record 48 of Set 2| amahai\n",
      "Prosessing record 49 of Set 2| turukhansk\n",
      "Prosessing record 1 of Set 3| pathein\n",
      "Prosessing record 2 of Set 3| jamestown\n",
      "Prosessing record 3 of Set 3| pervomayskiy\n",
      "City not found. Skipping...\n",
      "Prosessing record 4 of Set 3| itapirapua\n",
      "Prosessing record 5 of Set 3| lebu\n",
      "City not found. Skipping...\n",
      "Prosessing record 6 of Set 3| riohacha\n",
      "Prosessing record 7 of Set 3| sao filipe\n",
      "City not found. Skipping...\n",
      "Prosessing record 8 of Set 3| dunedin\n",
      "Prosessing record 9 of Set 3| carnarvon\n",
      "City not found. Skipping...\n",
      "Prosessing record 10 of Set 3| avarua\n",
      "Prosessing record 11 of Set 3| fare\n",
      "Prosessing record 12 of Set 3| hamilton\n",
      "Prosessing record 13 of Set 3| namatanai\n",
      "Prosessing record 14 of Set 3| moerai\n",
      "Prosessing record 15 of Set 3| necochea\n",
      "Prosessing record 16 of Set 3| tabou\n",
      "Prosessing record 17 of Set 3| porto torres\n",
      "Prosessing record 18 of Set 3| dalvik\n",
      "Prosessing record 19 of Set 3| buta\n",
      "Prosessing record 20 of Set 3| atbasar\n",
      "Prosessing record 21 of Set 3| kavaratti\n",
      "Prosessing record 22 of Set 3| axim\n",
      "City not found. Skipping...\n",
      "Prosessing record 23 of Set 3| antofagasta\n",
      "Prosessing record 24 of Set 3| russell\n",
      "City not found. Skipping...\n",
      "Prosessing record 25 of Set 3| khasan\n",
      "Prosessing record 26 of Set 3| hobart\n",
      "Prosessing record 27 of Set 3| olenegorsk\n",
      "Prosessing record 28 of Set 3| tiznit\n",
      "Prosessing record 29 of Set 3| huarmey\n",
      "City not found. Skipping...\n",
      "Prosessing record 30 of Set 3| sandy bay\n",
      "Prosessing record 31 of Set 3| orlik\n",
      "Prosessing record 32 of Set 3| killin\n",
      "Prosessing record 33 of Set 3| hermanus\n",
      "City not found. Skipping...\n",
      "Prosessing record 34 of Set 3| roald\n",
      "City not found. Skipping...\n",
      "Prosessing record 35 of Set 3| pevek\n",
      "Prosessing record 36 of Set 3| kavieng\n",
      "Prosessing record 37 of Set 3| green river\n",
      "Prosessing record 38 of Set 3| colquechaca\n",
      "Prosessing record 39 of Set 3| paamiut\n",
      "Prosessing record 40 of Set 3| mount isa\n",
      "Prosessing record 41 of Set 3| viedma\n",
      "City not found. Skipping...\n",
      "Prosessing record 42 of Set 3| alindao\n",
      "Prosessing record 43 of Set 3| naze\n",
      "Prosessing record 44 of Set 3| souillac\n",
      "City not found. Skipping...\n",
      "Prosessing record 45 of Set 3| bathsheba\n",
      "Prosessing record 46 of Set 3| puquio\n",
      "Prosessing record 47 of Set 3| ballina\n",
      "Prosessing record 48 of Set 3| codrington\n",
      "City not found. Skipping...\n",
      "Prosessing record 49 of Set 3| georgetown\n",
      "Prosessing record 1 of Set 4| diamantino\n",
      "Prosessing record 2 of Set 4| pisco\n",
      "City not found. Skipping...\n",
      "Prosessing record 3 of Set 4| new norfolk\n",
      "Prosessing record 4 of Set 4| galesong\n",
      "Prosessing record 5 of Set 4| borovoy\n",
      "Prosessing record 6 of Set 4| haines junction\n",
      "Prosessing record 7 of Set 4| phalombe\n",
      "Prosessing record 8 of Set 4| gondanglegi\n",
      "Prosessing record 9 of Set 4| kitimat\n",
      "City not found. Skipping...\n",
      "Prosessing record 10 of Set 4| teano\n",
      "Prosessing record 11 of Set 4| klaksvik\n",
      "City not found. Skipping...\n",
      "Prosessing record 12 of Set 4| severo-kurilsk\n",
      "Prosessing record 13 of Set 4| salalah\n",
      "Prosessing record 14 of Set 4| hare bay\n",
      "Prosessing record 15 of Set 4| homer\n",
      "Prosessing record 16 of Set 4| saint-joseph\n",
      "Prosessing record 17 of Set 4| odweyne\n",
      "Prosessing record 18 of Set 4| qaqortoq\n",
      "Prosessing record 19 of Set 4| la rioja\n",
      "Prosessing record 20 of Set 4| lenger\n",
      "City not found. Skipping...\n",
      "Prosessing record 21 of Set 4| airai\n",
      "Prosessing record 22 of Set 4| mehamn\n",
      "Prosessing record 23 of Set 4| cam ranh\n",
      "Prosessing record 24 of Set 4| faanui\n",
      "Prosessing record 25 of Set 4| westport\n",
      "Prosessing record 26 of Set 4| yellowknife\n",
      "Prosessing record 27 of Set 4| salinas\n",
      "Prosessing record 28 of Set 4| romitan\n",
      "Prosessing record 29 of Set 4| cabo san lucas\n",
      "Prosessing record 30 of Set 4| poum\n",
      "Prosessing record 31 of Set 4| sinazongwe\n",
      "Prosessing record 32 of Set 4| bengkulu\n",
      "Prosessing record 33 of Set 4| arman\n",
      "Prosessing record 34 of Set 4| tessalit\n",
      "Prosessing record 35 of Set 4| nara\n",
      "Prosessing record 36 of Set 4| dudinka\n",
      "Prosessing record 37 of Set 4| sinnamary\n",
      "Prosessing record 38 of Set 4| ostrovnoy\n",
      "Prosessing record 39 of Set 4| vagur\n",
      "Prosessing record 40 of Set 4| raga\n",
      "Prosessing record 41 of Set 4| dingle\n",
      "Prosessing record 42 of Set 4| kapaa\n",
      "Prosessing record 43 of Set 4| nantucket\n",
      "Prosessing record 44 of Set 4| namwala\n"
     ]
    },
    {
     "name": "stdout",
     "output_type": "stream",
     "text": [
      "Prosessing record 45 of Set 4| korla\n",
      "Prosessing record 46 of Set 4| bambous virieux\n",
      "Prosessing record 47 of Set 4| tenenkou\n",
      "Prosessing record 48 of Set 4| husavik\n",
      "Prosessing record 49 of Set 4| kuytun\n",
      "Prosessing record 1 of Set 5| krasnoselkup\n",
      "Prosessing record 2 of Set 5| tasiilaq\n",
      "Prosessing record 3 of Set 5| raymondville\n",
      "Prosessing record 4 of Set 5| thompson\n",
      "Prosessing record 5 of Set 5| chuy\n",
      "Prosessing record 6 of Set 5| khudumelapye\n",
      "Prosessing record 7 of Set 5| zhicheng\n",
      "Prosessing record 8 of Set 5| maniitsoq\n",
      "Prosessing record 9 of Set 5| port alfred\n",
      "Prosessing record 10 of Set 5| qaanaaq\n",
      "Prosessing record 11 of Set 5| itaguai\n",
      "Prosessing record 12 of Set 5| sayat\n",
      "Prosessing record 13 of Set 5| kuala terengganu\n",
      "City not found. Skipping...\n",
      "City not found. Skipping...\n",
      "Prosessing record 14 of Set 5| makokou\n",
      "Prosessing record 15 of Set 5| verkh-chebula\n",
      "Prosessing record 16 of Set 5| kuvshinovo\n",
      "Prosessing record 17 of Set 5| daura\n",
      "Prosessing record 18 of Set 5| uray\n",
      "Prosessing record 19 of Set 5| mochudi\n",
      "Prosessing record 20 of Set 5| oriximina\n",
      "Prosessing record 21 of Set 5| talnakh\n",
      "Prosessing record 22 of Set 5| takoradi\n",
      "Prosessing record 23 of Set 5| shubarkuduk\n",
      "Prosessing record 24 of Set 5| manggar\n",
      "Prosessing record 25 of Set 5| clyde river\n",
      "Prosessing record 26 of Set 5| gornyy\n",
      "Prosessing record 27 of Set 5| hasaki\n",
      "Prosessing record 28 of Set 5| san andres\n",
      "Prosessing record 29 of Set 5| upernavik\n",
      "City not found. Skipping...\n",
      "Prosessing record 30 of Set 5| doha\n",
      "Prosessing record 31 of Set 5| pearland\n",
      "Prosessing record 32 of Set 5| imbituba\n",
      "Prosessing record 33 of Set 5| saint anthony\n",
      "Prosessing record 34 of Set 5| penzance\n",
      "Prosessing record 35 of Set 5| obihiro\n",
      "Prosessing record 36 of Set 5| caravelas\n",
      "Prosessing record 37 of Set 5| kruisfontein\n",
      "Prosessing record 38 of Set 5| kananga\n",
      "Prosessing record 39 of Set 5| santa isabel do rio negro\n",
      "Prosessing record 40 of Set 5| sri aman\n",
      "Prosessing record 41 of Set 5| ubinskoye\n",
      "Prosessing record 42 of Set 5| nikolskoye\n",
      "Prosessing record 43 of Set 5| padang\n",
      "Prosessing record 44 of Set 5| matara\n",
      "Prosessing record 45 of Set 5| ankang\n",
      "City not found. Skipping...\n",
      "Prosessing record 46 of Set 5| gravelbourg\n",
      "Prosessing record 47 of Set 5| saint-pierre\n",
      "Prosessing record 48 of Set 5| alofi\n",
      "Prosessing record 49 of Set 5| east london\n",
      "Prosessing record 1 of Set 6| hailar\n",
      "City not found. Skipping...\n",
      "Prosessing record 2 of Set 6| barstow\n",
      "Prosessing record 3 of Set 6| vardo\n",
      "Prosessing record 4 of Set 6| sao joao da barra\n",
      "Prosessing record 5 of Set 6| faya\n",
      "Prosessing record 6 of Set 6| belyy yar\n",
      "Prosessing record 7 of Set 6| broome\n",
      "Prosessing record 8 of Set 6| nhulunbuy\n",
      "Prosessing record 9 of Set 6| kiruna\n",
      "Prosessing record 10 of Set 6| vila velha\n",
      "City not found. Skipping...\n",
      "Prosessing record 11 of Set 6| raudeberg\n",
      "Prosessing record 12 of Set 6| leningradskiy\n",
      "Prosessing record 13 of Set 6| ribeira grande\n",
      "Prosessing record 14 of Set 6| rosario oeste\n",
      "Prosessing record 15 of Set 6| chokurdakh\n",
      "Prosessing record 16 of Set 6| portland\n",
      "Prosessing record 17 of Set 6| sampit\n",
      "Prosessing record 18 of Set 6| asau\n",
      "Prosessing record 19 of Set 6| saint-leu\n",
      "Prosessing record 20 of Set 6| podor\n",
      "Prosessing record 21 of Set 6| santa maria\n",
      "Prosessing record 22 of Set 6| brae\n",
      "Prosessing record 23 of Set 6| kingisepp\n",
      "Prosessing record 24 of Set 6| ziro\n",
      "City not found. Skipping...\n",
      "Prosessing record 25 of Set 6| vilsbiburg\n",
      "Prosessing record 26 of Set 6| yining\n",
      "Prosessing record 27 of Set 6| lompoc\n",
      "Prosessing record 28 of Set 6| sandpoint\n",
      "Prosessing record 29 of Set 6| mahenge\n",
      "Prosessing record 30 of Set 6| crisan\n",
      "Prosessing record 31 of Set 6| kargopol\n",
      "Prosessing record 32 of Set 6| grindavik\n",
      "Prosessing record 33 of Set 6| te anau\n",
      "Prosessing record 34 of Set 6| hvolsvollur\n",
      "Prosessing record 35 of Set 6| olafsvik\n",
      "Prosessing record 36 of Set 6| batagay-alyta\n",
      "Prosessing record 37 of Set 6| altamira\n",
      "Prosessing record 38 of Set 6| zilair\n",
      "Prosessing record 39 of Set 6| coihaique\n",
      "Prosessing record 40 of Set 6| las palmas\n",
      "Prosessing record 41 of Set 6| norman wells\n",
      "Prosessing record 42 of Set 6| ancud\n",
      "Prosessing record 43 of Set 6| tshikapa\n",
      "Prosessing record 44 of Set 6| katangli\n",
      "Prosessing record 45 of Set 6| jalu\n",
      "Prosessing record 46 of Set 6| artyom\n",
      "Prosessing record 47 of Set 6| pangnirtung\n",
      "Prosessing record 48 of Set 6| opuwo\n",
      "Prosessing record 49 of Set 6| zhezkazgan\n",
      "Prosessing record 1 of Set 7| lasa\n",
      "Prosessing record 2 of Set 7| pahrump\n",
      "Prosessing record 3 of Set 7| kutum\n",
      "Prosessing record 4 of Set 7| neiafu\n",
      "Prosessing record 5 of Set 7| guerrero negro\n",
      "Prosessing record 6 of Set 7| kathu\n",
      "Prosessing record 7 of Set 7| luganville\n",
      "City not found. Skipping...\n",
      "Prosessing record 8 of Set 7| cap malheureux\n",
      "Prosessing record 9 of Set 7| berlevag\n",
      "Prosessing record 10 of Set 7| dryden\n",
      "Prosessing record 11 of Set 7| kerteminde\n",
      "Prosessing record 12 of Set 7| cruzeiro do sul\n",
      "Prosessing record 13 of Set 7| ciudad bolivar\n",
      "Prosessing record 14 of Set 7| vostok\n",
      "Prosessing record 15 of Set 7| ust-nera\n",
      "Prosessing record 16 of Set 7| outlook\n",
      "Prosessing record 17 of Set 7| thinadhoo\n",
      "Prosessing record 18 of Set 7| bilma\n",
      "Prosessing record 19 of Set 7| sosnovo-ozerskoye\n",
      "Prosessing record 20 of Set 7| anadyr\n",
      "Prosessing record 21 of Set 7| halkirk\n",
      "Prosessing record 22 of Set 7| lavrentiya\n",
      "Prosessing record 23 of Set 7| bintulu\n",
      "Prosessing record 24 of Set 7| pochutla\n",
      "Prosessing record 25 of Set 7| nador\n",
      "Prosessing record 26 of Set 7| kagalnik\n",
      "Prosessing record 27 of Set 7| kununurra\n",
      "Prosessing record 28 of Set 7| camalu\n",
      "Prosessing record 29 of Set 7| salinopolis\n",
      "Prosessing record 30 of Set 7| nagato\n",
      "Prosessing record 31 of Set 7| luderitz\n",
      "Prosessing record 32 of Set 7| paita\n",
      "City not found. Skipping...\n",
      "Prosessing record 33 of Set 7| esso\n",
      "Prosessing record 34 of Set 7| saskylakh\n",
      "Prosessing record 35 of Set 7| grootfontein\n",
      "City not found. Skipping...\n",
      "Prosessing record 36 of Set 7| marawi\n",
      "Prosessing record 37 of Set 7| tuzha\n",
      "Prosessing record 38 of Set 7| bowen\n",
      "Prosessing record 39 of Set 7| popondetta\n",
      "Prosessing record 40 of Set 7| chernyshevskiy\n",
      "Prosessing record 41 of Set 7| nioro\n",
      "Prosessing record 42 of Set 7| makakilo city\n",
      "City not found. Skipping...\n",
      "Prosessing record 43 of Set 7| nenjiang\n",
      "Prosessing record 44 of Set 7| krasavino\n",
      "Prosessing record 45 of Set 7| tougue\n",
      "Prosessing record 46 of Set 7| leshukonskoye\n",
      "City not found. Skipping...\n",
      "Prosessing record 47 of Set 7| bud\n",
      "Prosessing record 48 of Set 7| gushikawa\n",
      "Prosessing record 49 of Set 7| tecoanapa\n",
      "Prosessing record 1 of Set 8| kedrovyy\n",
      "Prosessing record 2 of Set 8| namibe\n",
      "Prosessing record 3 of Set 8| caramay\n",
      "Prosessing record 4 of Set 8| homnabad\n",
      "Prosessing record 5 of Set 8| havelock\n",
      "Prosessing record 6 of Set 8| iranshahr\n",
      "Prosessing record 7 of Set 8| lagoa\n",
      "City not found. Skipping...\n",
      "Prosessing record 8 of Set 8| narsaq\n",
      "Prosessing record 9 of Set 8| kongoussi\n",
      "City not found. Skipping...\n",
      "Prosessing record 10 of Set 8| green valley\n",
      "Prosessing record 11 of Set 8| finschhafen\n",
      "City not found. Skipping...\n",
      "Prosessing record 12 of Set 8| plettenberg bay\n",
      "City not found. Skipping...\n",
      "City not found. Skipping...\n",
      "Prosessing record 13 of Set 8| osakarovka\n",
      "City not found. Skipping...\n",
      "Prosessing record 14 of Set 8| los llanos de aridane\n",
      "Prosessing record 15 of Set 8| ahipara\n",
      "Prosessing record 16 of Set 8| nemuro\n",
      "Prosessing record 17 of Set 8| jutai\n",
      "Prosessing record 18 of Set 8| concepcion del uruguay\n",
      "Prosessing record 19 of Set 8| kaniama\n",
      "Prosessing record 20 of Set 8| kolondieba\n",
      "Prosessing record 21 of Set 8| zhumadian\n",
      "Prosessing record 22 of Set 8| general pico\n",
      "Prosessing record 23 of Set 8| isangel\n",
      "Prosessing record 24 of Set 8| praia\n",
      "Prosessing record 25 of Set 8| galbshtadt\n",
      "Prosessing record 26 of Set 8| balkanabat\n",
      "Prosessing record 27 of Set 8| ardmore\n",
      "City not found. Skipping...\n",
      "Prosessing record 28 of Set 8| port blair\n",
      "Prosessing record 29 of Set 8| byron bay\n",
      "Prosessing record 30 of Set 8| vao\n",
      "Prosessing record 31 of Set 8| asyut\n",
      "Prosessing record 32 of Set 8| aginskoye\n",
      "Prosessing record 33 of Set 8| alta floresta\n",
      "Prosessing record 34 of Set 8| lucapa\n",
      "Prosessing record 35 of Set 8| ust-tsilma\n",
      "Prosessing record 36 of Set 8| gat\n",
      "Prosessing record 37 of Set 8| puerto maldonado\n",
      "City not found. Skipping...\n",
      "Prosessing record 38 of Set 8| coahuayana\n"
     ]
    },
    {
     "name": "stdout",
     "output_type": "stream",
     "text": [
      "Prosessing record 39 of Set 8| altamont\n",
      "Prosessing record 40 of Set 8| inirida\n",
      "Prosessing record 41 of Set 8| dhidhdhoo\n",
      "City not found. Skipping...\n",
      "Prosessing record 42 of Set 8| miandoab\n",
      "Prosessing record 43 of Set 8| arona\n",
      "Prosessing record 44 of Set 8| najran\n",
      "Prosessing record 45 of Set 8| cherdyn\n",
      "Prosessing record 46 of Set 8| kailua\n",
      "Prosessing record 47 of Set 8| acapulco\n",
      "Prosessing record 48 of Set 8| pekan\n"
     ]
    },
    {
     "ename": "JSONDecodeError",
     "evalue": "Expecting value: line 1 column 1 (char 0)",
     "output_type": "error",
     "traceback": [
      "\u001b[1;31m---------------------------------------------------------------------------\u001b[0m",
      "\u001b[1;31mJSONDecodeError\u001b[0m                           Traceback (most recent call last)",
      "\u001b[1;32m<ipython-input-13-d41cd87d5558>\u001b[0m in \u001b[0;36m<module>\u001b[1;34m\u001b[0m\n\u001b[0;32m     30\u001b[0m \u001b[1;33m\u001b[0m\u001b[0m\n\u001b[0;32m     31\u001b[0m     \u001b[1;32mtry\u001b[0m\u001b[1;33m:\u001b[0m\u001b[1;33m\u001b[0m\u001b[1;33m\u001b[0m\u001b[0m\n\u001b[1;32m---> 32\u001b[1;33m         \u001b[0mweatherpy_data\u001b[0m \u001b[1;33m=\u001b[0m \u001b[0mrequests\u001b[0m\u001b[1;33m.\u001b[0m\u001b[0mget\u001b[0m\u001b[1;33m(\u001b[0m\u001b[1;34mf\" {url}&q={city}\"\u001b[0m\u001b[1;33m)\u001b[0m\u001b[1;33m.\u001b[0m\u001b[0mjson\u001b[0m\u001b[1;33m(\u001b[0m\u001b[1;33m)\u001b[0m\u001b[1;33m\u001b[0m\u001b[1;33m\u001b[0m\u001b[0m\n\u001b[0m\u001b[0;32m     33\u001b[0m         \u001b[0mname_city\u001b[0m\u001b[1;33m.\u001b[0m\u001b[0mappend\u001b[0m\u001b[1;33m(\u001b[0m\u001b[0mweatherpy_data\u001b[0m\u001b[1;33m[\u001b[0m\u001b[1;34m'name'\u001b[0m\u001b[1;33m]\u001b[0m\u001b[1;33m)\u001b[0m\u001b[1;33m\u001b[0m\u001b[1;33m\u001b[0m\u001b[0m\n\u001b[0;32m     34\u001b[0m         \u001b[0mcloudiness\u001b[0m\u001b[1;33m.\u001b[0m\u001b[0mappend\u001b[0m\u001b[1;33m(\u001b[0m\u001b[0mweatherpy_data\u001b[0m\u001b[1;33m[\u001b[0m\u001b[1;34m'clouds'\u001b[0m\u001b[1;33m]\u001b[0m\u001b[1;33m[\u001b[0m\u001b[1;34m'all'\u001b[0m\u001b[1;33m]\u001b[0m\u001b[1;33m)\u001b[0m\u001b[1;33m\u001b[0m\u001b[1;33m\u001b[0m\u001b[0m\n",
      "\u001b[1;32m~\\anaconda3\\lib\\site-packages\\requests\\models.py\u001b[0m in \u001b[0;36mjson\u001b[1;34m(self, **kwargs)\u001b[0m\n\u001b[0;32m    896\u001b[0m                     \u001b[1;31m# used.\u001b[0m\u001b[1;33m\u001b[0m\u001b[1;33m\u001b[0m\u001b[1;33m\u001b[0m\u001b[0m\n\u001b[0;32m    897\u001b[0m                     \u001b[1;32mpass\u001b[0m\u001b[1;33m\u001b[0m\u001b[1;33m\u001b[0m\u001b[0m\n\u001b[1;32m--> 898\u001b[1;33m         \u001b[1;32mreturn\u001b[0m \u001b[0mcomplexjson\u001b[0m\u001b[1;33m.\u001b[0m\u001b[0mloads\u001b[0m\u001b[1;33m(\u001b[0m\u001b[0mself\u001b[0m\u001b[1;33m.\u001b[0m\u001b[0mtext\u001b[0m\u001b[1;33m,\u001b[0m \u001b[1;33m**\u001b[0m\u001b[0mkwargs\u001b[0m\u001b[1;33m)\u001b[0m\u001b[1;33m\u001b[0m\u001b[1;33m\u001b[0m\u001b[0m\n\u001b[0m\u001b[0;32m    899\u001b[0m \u001b[1;33m\u001b[0m\u001b[0m\n\u001b[0;32m    900\u001b[0m     \u001b[1;33m@\u001b[0m\u001b[0mproperty\u001b[0m\u001b[1;33m\u001b[0m\u001b[1;33m\u001b[0m\u001b[0m\n",
      "\u001b[1;32m~\\anaconda3\\lib\\json\\__init__.py\u001b[0m in \u001b[0;36mloads\u001b[1;34m(s, cls, object_hook, parse_float, parse_int, parse_constant, object_pairs_hook, **kw)\u001b[0m\n\u001b[0;32m    355\u001b[0m             \u001b[0mparse_int\u001b[0m \u001b[1;32mis\u001b[0m \u001b[1;32mNone\u001b[0m \u001b[1;32mand\u001b[0m \u001b[0mparse_float\u001b[0m \u001b[1;32mis\u001b[0m \u001b[1;32mNone\u001b[0m \u001b[1;32mand\u001b[0m\u001b[1;33m\u001b[0m\u001b[1;33m\u001b[0m\u001b[0m\n\u001b[0;32m    356\u001b[0m             parse_constant is None and object_pairs_hook is None and not kw):\n\u001b[1;32m--> 357\u001b[1;33m         \u001b[1;32mreturn\u001b[0m \u001b[0m_default_decoder\u001b[0m\u001b[1;33m.\u001b[0m\u001b[0mdecode\u001b[0m\u001b[1;33m(\u001b[0m\u001b[0ms\u001b[0m\u001b[1;33m)\u001b[0m\u001b[1;33m\u001b[0m\u001b[1;33m\u001b[0m\u001b[0m\n\u001b[0m\u001b[0;32m    358\u001b[0m     \u001b[1;32mif\u001b[0m \u001b[0mcls\u001b[0m \u001b[1;32mis\u001b[0m \u001b[1;32mNone\u001b[0m\u001b[1;33m:\u001b[0m\u001b[1;33m\u001b[0m\u001b[1;33m\u001b[0m\u001b[0m\n\u001b[0;32m    359\u001b[0m         \u001b[0mcls\u001b[0m \u001b[1;33m=\u001b[0m \u001b[0mJSONDecoder\u001b[0m\u001b[1;33m\u001b[0m\u001b[1;33m\u001b[0m\u001b[0m\n",
      "\u001b[1;32m~\\anaconda3\\lib\\json\\decoder.py\u001b[0m in \u001b[0;36mdecode\u001b[1;34m(self, s, _w)\u001b[0m\n\u001b[0;32m    335\u001b[0m \u001b[1;33m\u001b[0m\u001b[0m\n\u001b[0;32m    336\u001b[0m         \"\"\"\n\u001b[1;32m--> 337\u001b[1;33m         \u001b[0mobj\u001b[0m\u001b[1;33m,\u001b[0m \u001b[0mend\u001b[0m \u001b[1;33m=\u001b[0m \u001b[0mself\u001b[0m\u001b[1;33m.\u001b[0m\u001b[0mraw_decode\u001b[0m\u001b[1;33m(\u001b[0m\u001b[0ms\u001b[0m\u001b[1;33m,\u001b[0m \u001b[0midx\u001b[0m\u001b[1;33m=\u001b[0m\u001b[0m_w\u001b[0m\u001b[1;33m(\u001b[0m\u001b[0ms\u001b[0m\u001b[1;33m,\u001b[0m \u001b[1;36m0\u001b[0m\u001b[1;33m)\u001b[0m\u001b[1;33m.\u001b[0m\u001b[0mend\u001b[0m\u001b[1;33m(\u001b[0m\u001b[1;33m)\u001b[0m\u001b[1;33m)\u001b[0m\u001b[1;33m\u001b[0m\u001b[1;33m\u001b[0m\u001b[0m\n\u001b[0m\u001b[0;32m    338\u001b[0m         \u001b[0mend\u001b[0m \u001b[1;33m=\u001b[0m \u001b[0m_w\u001b[0m\u001b[1;33m(\u001b[0m\u001b[0ms\u001b[0m\u001b[1;33m,\u001b[0m \u001b[0mend\u001b[0m\u001b[1;33m)\u001b[0m\u001b[1;33m.\u001b[0m\u001b[0mend\u001b[0m\u001b[1;33m(\u001b[0m\u001b[1;33m)\u001b[0m\u001b[1;33m\u001b[0m\u001b[1;33m\u001b[0m\u001b[0m\n\u001b[0;32m    339\u001b[0m         \u001b[1;32mif\u001b[0m \u001b[0mend\u001b[0m \u001b[1;33m!=\u001b[0m \u001b[0mlen\u001b[0m\u001b[1;33m(\u001b[0m\u001b[0ms\u001b[0m\u001b[1;33m)\u001b[0m\u001b[1;33m:\u001b[0m\u001b[1;33m\u001b[0m\u001b[1;33m\u001b[0m\u001b[0m\n",
      "\u001b[1;32m~\\anaconda3\\lib\\json\\decoder.py\u001b[0m in \u001b[0;36mraw_decode\u001b[1;34m(self, s, idx)\u001b[0m\n\u001b[0;32m    353\u001b[0m             \u001b[0mobj\u001b[0m\u001b[1;33m,\u001b[0m \u001b[0mend\u001b[0m \u001b[1;33m=\u001b[0m \u001b[0mself\u001b[0m\u001b[1;33m.\u001b[0m\u001b[0mscan_once\u001b[0m\u001b[1;33m(\u001b[0m\u001b[0ms\u001b[0m\u001b[1;33m,\u001b[0m \u001b[0midx\u001b[0m\u001b[1;33m)\u001b[0m\u001b[1;33m\u001b[0m\u001b[1;33m\u001b[0m\u001b[0m\n\u001b[0;32m    354\u001b[0m         \u001b[1;32mexcept\u001b[0m \u001b[0mStopIteration\u001b[0m \u001b[1;32mas\u001b[0m \u001b[0merr\u001b[0m\u001b[1;33m:\u001b[0m\u001b[1;33m\u001b[0m\u001b[1;33m\u001b[0m\u001b[0m\n\u001b[1;32m--> 355\u001b[1;33m             \u001b[1;32mraise\u001b[0m \u001b[0mJSONDecodeError\u001b[0m\u001b[1;33m(\u001b[0m\u001b[1;34m\"Expecting value\"\u001b[0m\u001b[1;33m,\u001b[0m \u001b[0ms\u001b[0m\u001b[1;33m,\u001b[0m \u001b[0merr\u001b[0m\u001b[1;33m.\u001b[0m\u001b[0mvalue\u001b[0m\u001b[1;33m)\u001b[0m \u001b[1;32mfrom\u001b[0m \u001b[1;32mNone\u001b[0m\u001b[1;33m\u001b[0m\u001b[1;33m\u001b[0m\u001b[0m\n\u001b[0m\u001b[0;32m    356\u001b[0m         \u001b[1;32mreturn\u001b[0m \u001b[0mobj\u001b[0m\u001b[1;33m,\u001b[0m \u001b[0mend\u001b[0m\u001b[1;33m\u001b[0m\u001b[1;33m\u001b[0m\u001b[0m\n",
      "\u001b[1;31mJSONDecodeError\u001b[0m: Expecting value: line 1 column 1 (char 0)"
     ]
    }
   ],
   "source": [
    "# From day 3 notes\n",
    "# find the closest restaurant of each type to coordinates\n",
    "\n",
    "# set up lists to hold reponse info\n",
    "name_city = []\n",
    "cloudiness = []\n",
    "country = []\n",
    "date = []\n",
    "humidity = []\n",
    "lat = []\n",
    "lng = []\n",
    "max_temp = []\n",
    "wind_speed = []\n",
    "\n",
    "# Starting the call count for the city\n",
    "record=1\n",
    "\n",
    "# Starting the count of sets\n",
    "sets=1\n",
    "\n",
    "# Loop through the list of cities and perform a request for data on each city\n",
    "print(f\"Beginning Data Retrieval.\")\n",
    "print(f\"--------------------------------\")\n",
    "\n",
    "for city in cities:\n",
    "    \n",
    "    if record % 50 == 0: \n",
    "        sets = sets + 1\n",
    "        record = 1\n",
    "    \n",
    "    try:\n",
    "        weatherpy_data = requests.get(f\" {url}&q={city}\").json()\n",
    "        name_city.append(weatherpy_data['name'])\n",
    "        cloudiness.append(weatherpy_data['clouds']['all'])\n",
    "        country.append(weatherpy_data['sys']['country'])\n",
    "        date.append(weatherpy_data['dt'])\n",
    "        humidity.append(weatherpy_data['main']['humidity'])\n",
    "        lat.append(weatherpy_data['coord']['lat'])\n",
    "        lng.append(weatherpy_data['coord']['lon'])\n",
    "        max_temp.append(weatherpy_data['main']['temp_max'])\n",
    "        wind_speed.append(weatherpy_data['wind']['speed'])\n",
    "        \n",
    "        print(f\"Prosessing record {record} of Set {sets}| {city}\")\n",
    "        \n",
    "        record = record + 1\n",
    "        \n",
    "        \n",
    "        # Not exceeding the API request per minute\n",
    "        time.sleep(1.01)\n",
    "            \n",
    "    except (KeyError, IndexError):\n",
    "        print(\"City not found. Skipping...\")\n",
    "    \n",
    "    "
   ]
  },
  {
   "cell_type": "markdown",
   "metadata": {},
   "source": [
    "### Convert Raw Data to DataFrame\n",
    "* Export the city data into a .csv.\n",
    "* Display the DataFrame"
   ]
  },
  {
   "cell_type": "code",
   "execution_count": 6,
   "metadata": {},
   "outputs": [],
   "source": [
    "# Create the Dictionary and columns\n",
    "weather_city_list = {\"City\": name_city,\n",
    "                    \"Country\": country,\n",
    "                    \"Cloudiness\": cloudiness,\n",
    "                    \"Date\": date,\n",
    "                    \"Humidity\": humidity,\n",
    "                    \"Latitude\": lat,\n",
    "                    \"Longitude\": lng,\n",
    "                    \"Max Temp\": max_temp,\n",
    "                    \"Wind Speed\": wind_speed}\n",
    "\n",
    "# Creating the DataFrame from the dictionary\n",
    "weatherpy_city_data_df = pd.DataFrame(weather_city_list)"
   ]
  },
  {
   "cell_type": "code",
   "execution_count": 8,
   "metadata": {},
   "outputs": [
    {
     "data": {
      "text/html": [
       "<div>\n",
       "<style scoped>\n",
       "    .dataframe tbody tr th:only-of-type {\n",
       "        vertical-align: middle;\n",
       "    }\n",
       "\n",
       "    .dataframe tbody tr th {\n",
       "        vertical-align: top;\n",
       "    }\n",
       "\n",
       "    .dataframe thead th {\n",
       "        text-align: right;\n",
       "    }\n",
       "</style>\n",
       "<table border=\"1\" class=\"dataframe\">\n",
       "  <thead>\n",
       "    <tr style=\"text-align: right;\">\n",
       "      <th></th>\n",
       "      <th>City</th>\n",
       "      <th>Cloudiness</th>\n",
       "      <th>Country</th>\n",
       "      <th>Date</th>\n",
       "      <th>Humidity</th>\n",
       "      <th>Latitude</th>\n",
       "      <th>Longitude</th>\n",
       "      <th>Max Temp</th>\n",
       "      <th>Wind Speed</th>\n",
       "    </tr>\n",
       "  </thead>\n",
       "  <tbody>\n",
       "    <tr>\n",
       "      <th>0</th>\n",
       "      <td>Arraial do Cabo</td>\n",
       "      <td>20</td>\n",
       "      <td>BR</td>\n",
       "      <td>1619361067</td>\n",
       "      <td>78</td>\n",
       "      <td>-22.9661</td>\n",
       "      <td>-42.0278</td>\n",
       "      <td>80.60</td>\n",
       "      <td>2.30</td>\n",
       "    </tr>\n",
       "    <tr>\n",
       "      <th>1</th>\n",
       "      <td>Sarangani</td>\n",
       "      <td>2</td>\n",
       "      <td>PH</td>\n",
       "      <td>1619361196</td>\n",
       "      <td>78</td>\n",
       "      <td>5.4033</td>\n",
       "      <td>125.4636</td>\n",
       "      <td>83.21</td>\n",
       "      <td>15.86</td>\n",
       "    </tr>\n",
       "    <tr>\n",
       "      <th>2</th>\n",
       "      <td>Praia da Vitória</td>\n",
       "      <td>40</td>\n",
       "      <td>PT</td>\n",
       "      <td>1619361197</td>\n",
       "      <td>72</td>\n",
       "      <td>38.7333</td>\n",
       "      <td>-27.0667</td>\n",
       "      <td>64.99</td>\n",
       "      <td>17.34</td>\n",
       "    </tr>\n",
       "    <tr>\n",
       "      <th>3</th>\n",
       "      <td>Ketchikan</td>\n",
       "      <td>1</td>\n",
       "      <td>US</td>\n",
       "      <td>1619361199</td>\n",
       "      <td>70</td>\n",
       "      <td>55.3422</td>\n",
       "      <td>-131.6461</td>\n",
       "      <td>37.40</td>\n",
       "      <td>4.85</td>\n",
       "    </tr>\n",
       "    <tr>\n",
       "      <th>4</th>\n",
       "      <td>Laguna</td>\n",
       "      <td>1</td>\n",
       "      <td>US</td>\n",
       "      <td>1619361200</td>\n",
       "      <td>71</td>\n",
       "      <td>38.4210</td>\n",
       "      <td>-121.4238</td>\n",
       "      <td>54.00</td>\n",
       "      <td>5.75</td>\n",
       "    </tr>\n",
       "    <tr>\n",
       "      <th>...</th>\n",
       "      <td>...</td>\n",
       "      <td>...</td>\n",
       "      <td>...</td>\n",
       "      <td>...</td>\n",
       "      <td>...</td>\n",
       "      <td>...</td>\n",
       "      <td>...</td>\n",
       "      <td>...</td>\n",
       "      <td>...</td>\n",
       "    </tr>\n",
       "    <tr>\n",
       "      <th>72</th>\n",
       "      <td>Bredasdorp</td>\n",
       "      <td>100</td>\n",
       "      <td>ZA</td>\n",
       "      <td>1619361281</td>\n",
       "      <td>77</td>\n",
       "      <td>-34.5322</td>\n",
       "      <td>20.0403</td>\n",
       "      <td>62.60</td>\n",
       "      <td>2.30</td>\n",
       "    </tr>\n",
       "    <tr>\n",
       "      <th>73</th>\n",
       "      <td>Busselton</td>\n",
       "      <td>2</td>\n",
       "      <td>AU</td>\n",
       "      <td>1619361013</td>\n",
       "      <td>91</td>\n",
       "      <td>-33.6500</td>\n",
       "      <td>115.3333</td>\n",
       "      <td>60.01</td>\n",
       "      <td>4.45</td>\n",
       "    </tr>\n",
       "    <tr>\n",
       "      <th>74</th>\n",
       "      <td>Aklavik</td>\n",
       "      <td>40</td>\n",
       "      <td>CA</td>\n",
       "      <td>1619361284</td>\n",
       "      <td>86</td>\n",
       "      <td>68.2191</td>\n",
       "      <td>-135.0107</td>\n",
       "      <td>19.40</td>\n",
       "      <td>9.22</td>\n",
       "    </tr>\n",
       "    <tr>\n",
       "      <th>75</th>\n",
       "      <td>The Valley</td>\n",
       "      <td>40</td>\n",
       "      <td>AI</td>\n",
       "      <td>1619361285</td>\n",
       "      <td>65</td>\n",
       "      <td>18.2170</td>\n",
       "      <td>-63.0578</td>\n",
       "      <td>84.20</td>\n",
       "      <td>14.97</td>\n",
       "    </tr>\n",
       "    <tr>\n",
       "      <th>76</th>\n",
       "      <td>Tuktoyaktuk</td>\n",
       "      <td>75</td>\n",
       "      <td>CA</td>\n",
       "      <td>1619360997</td>\n",
       "      <td>85</td>\n",
       "      <td>69.4541</td>\n",
       "      <td>-133.0374</td>\n",
       "      <td>10.40</td>\n",
       "      <td>10.36</td>\n",
       "    </tr>\n",
       "  </tbody>\n",
       "</table>\n",
       "<p>77 rows × 9 columns</p>\n",
       "</div>"
      ],
      "text/plain": [
       "                City  Cloudiness Country        Date  Humidity  Latitude  \\\n",
       "0    Arraial do Cabo          20      BR  1619361067        78  -22.9661   \n",
       "1          Sarangani           2      PH  1619361196        78    5.4033   \n",
       "2   Praia da Vitória          40      PT  1619361197        72   38.7333   \n",
       "3          Ketchikan           1      US  1619361199        70   55.3422   \n",
       "4             Laguna           1      US  1619361200        71   38.4210   \n",
       "..               ...         ...     ...         ...       ...       ...   \n",
       "72        Bredasdorp         100      ZA  1619361281        77  -34.5322   \n",
       "73         Busselton           2      AU  1619361013        91  -33.6500   \n",
       "74           Aklavik          40      CA  1619361284        86   68.2191   \n",
       "75        The Valley          40      AI  1619361285        65   18.2170   \n",
       "76       Tuktoyaktuk          75      CA  1619360997        85   69.4541   \n",
       "\n",
       "    Longitude  Max Temp  Wind Speed  \n",
       "0    -42.0278     80.60        2.30  \n",
       "1    125.4636     83.21       15.86  \n",
       "2    -27.0667     64.99       17.34  \n",
       "3   -131.6461     37.40        4.85  \n",
       "4   -121.4238     54.00        5.75  \n",
       "..        ...       ...         ...  \n",
       "72    20.0403     62.60        2.30  \n",
       "73   115.3333     60.01        4.45  \n",
       "74  -135.0107     19.40        9.22  \n",
       "75   -63.0578     84.20       14.97  \n",
       "76  -133.0374     10.40       10.36  \n",
       "\n",
       "[77 rows x 9 columns]"
      ]
     },
     "execution_count": 8,
     "metadata": {},
     "output_type": "execute_result"
    }
   ],
   "source": [
    "# Saving the city data to csv\n",
    "weatherpy_city_data_df.to_csv(\"output_data/weatherpy_city_data_df.csv\")\n",
    "\n",
    "# Displaying Dataframe\n",
    "weatherpy_city_data_df"
   ]
  },
  {
   "cell_type": "code",
   "execution_count": 9,
   "metadata": {},
   "outputs": [
    {
     "data": {
      "text/html": [
       "<div>\n",
       "<style scoped>\n",
       "    .dataframe tbody tr th:only-of-type {\n",
       "        vertical-align: middle;\n",
       "    }\n",
       "\n",
       "    .dataframe tbody tr th {\n",
       "        vertical-align: top;\n",
       "    }\n",
       "\n",
       "    .dataframe thead th {\n",
       "        text-align: right;\n",
       "    }\n",
       "</style>\n",
       "<table border=\"1\" class=\"dataframe\">\n",
       "  <thead>\n",
       "    <tr style=\"text-align: right;\">\n",
       "      <th></th>\n",
       "      <th>Cloudiness</th>\n",
       "      <th>Date</th>\n",
       "      <th>Humidity</th>\n",
       "      <th>Latitude</th>\n",
       "      <th>Longitude</th>\n",
       "      <th>Max Temp</th>\n",
       "      <th>Wind Speed</th>\n",
       "    </tr>\n",
       "  </thead>\n",
       "  <tbody>\n",
       "    <tr>\n",
       "      <th>count</th>\n",
       "      <td>77.000000</td>\n",
       "      <td>7.700000e+01</td>\n",
       "      <td>77.000000</td>\n",
       "      <td>77.000000</td>\n",
       "      <td>77.000000</td>\n",
       "      <td>77.000000</td>\n",
       "      <td>77.000000</td>\n",
       "    </tr>\n",
       "    <tr>\n",
       "      <th>mean</th>\n",
       "      <td>52.116883</td>\n",
       "      <td>1.619361e+09</td>\n",
       "      <td>70.207792</td>\n",
       "      <td>17.189361</td>\n",
       "      <td>20.891732</td>\n",
       "      <td>55.495584</td>\n",
       "      <td>9.196494</td>\n",
       "    </tr>\n",
       "    <tr>\n",
       "      <th>std</th>\n",
       "      <td>39.528462</td>\n",
       "      <td>1.473702e+02</td>\n",
       "      <td>22.498735</td>\n",
       "      <td>40.198968</td>\n",
       "      <td>102.542896</td>\n",
       "      <td>22.789108</td>\n",
       "      <td>5.592081</td>\n",
       "    </tr>\n",
       "    <tr>\n",
       "      <th>min</th>\n",
       "      <td>0.000000</td>\n",
       "      <td>1.619361e+09</td>\n",
       "      <td>9.000000</td>\n",
       "      <td>-54.800000</td>\n",
       "      <td>-175.200000</td>\n",
       "      <td>0.880000</td>\n",
       "      <td>1.140000</td>\n",
       "    </tr>\n",
       "    <tr>\n",
       "      <th>25%</th>\n",
       "      <td>11.000000</td>\n",
       "      <td>1.619361e+09</td>\n",
       "      <td>62.000000</td>\n",
       "      <td>-21.480300</td>\n",
       "      <td>-63.057800</td>\n",
       "      <td>39.200000</td>\n",
       "      <td>4.850000</td>\n",
       "    </tr>\n",
       "    <tr>\n",
       "      <th>50%</th>\n",
       "      <td>42.000000</td>\n",
       "      <td>1.619361e+09</td>\n",
       "      <td>74.000000</td>\n",
       "      <td>28.017000</td>\n",
       "      <td>19.916700</td>\n",
       "      <td>57.990000</td>\n",
       "      <td>9.170000</td>\n",
       "    </tr>\n",
       "    <tr>\n",
       "      <th>75%</th>\n",
       "      <td>98.000000</td>\n",
       "      <td>1.619361e+09</td>\n",
       "      <td>86.000000</td>\n",
       "      <td>48.000000</td>\n",
       "      <td>121.900000</td>\n",
       "      <td>73.400000</td>\n",
       "      <td>11.500000</td>\n",
       "    </tr>\n",
       "    <tr>\n",
       "      <th>max</th>\n",
       "      <td>100.000000</td>\n",
       "      <td>1.619361e+09</td>\n",
       "      <td>100.000000</td>\n",
       "      <td>78.218600</td>\n",
       "      <td>169.846400</td>\n",
       "      <td>103.820000</td>\n",
       "      <td>25.320000</td>\n",
       "    </tr>\n",
       "  </tbody>\n",
       "</table>\n",
       "</div>"
      ],
      "text/plain": [
       "       Cloudiness          Date    Humidity   Latitude   Longitude  \\\n",
       "count   77.000000  7.700000e+01   77.000000  77.000000   77.000000   \n",
       "mean    52.116883  1.619361e+09   70.207792  17.189361   20.891732   \n",
       "std     39.528462  1.473702e+02   22.498735  40.198968  102.542896   \n",
       "min      0.000000  1.619361e+09    9.000000 -54.800000 -175.200000   \n",
       "25%     11.000000  1.619361e+09   62.000000 -21.480300  -63.057800   \n",
       "50%     42.000000  1.619361e+09   74.000000  28.017000   19.916700   \n",
       "75%     98.000000  1.619361e+09   86.000000  48.000000  121.900000   \n",
       "max    100.000000  1.619361e+09  100.000000  78.218600  169.846400   \n",
       "\n",
       "         Max Temp  Wind Speed  \n",
       "count   77.000000   77.000000  \n",
       "mean    55.495584    9.196494  \n",
       "std     22.789108    5.592081  \n",
       "min      0.880000    1.140000  \n",
       "25%     39.200000    4.850000  \n",
       "50%     57.990000    9.170000  \n",
       "75%     73.400000   11.500000  \n",
       "max    103.820000   25.320000  "
      ]
     },
     "execution_count": 9,
     "metadata": {},
     "output_type": "execute_result"
    }
   ],
   "source": [
    "weatherpy_city_data_df.describe()"
   ]
  },
  {
   "cell_type": "markdown",
   "metadata": {},
   "source": [
    "## Inspect the data and remove the cities where the humidity > 100%.\n",
    "----\n",
    "Skip this step if there are no cities that have humidity > 100%. "
   ]
  },
  {
   "cell_type": "code",
   "execution_count": null,
   "metadata": {},
   "outputs": [],
   "source": []
  },
  {
   "cell_type": "code",
   "execution_count": null,
   "metadata": {},
   "outputs": [],
   "source": [
    "#  Get the indices of cities that have humidity over 100%.\n"
   ]
  },
  {
   "cell_type": "code",
   "execution_count": null,
   "metadata": {},
   "outputs": [],
   "source": [
    "# Make a new DataFrame equal to the city data to drop all humidity outliers by index.\n",
    "# Passing \"inplace=False\" will make a copy of the city_data DataFrame, which we call \"clean_city_data\".\n"
   ]
  },
  {
   "cell_type": "code",
   "execution_count": null,
   "metadata": {},
   "outputs": [],
   "source": [
    "\n"
   ]
  },
  {
   "cell_type": "markdown",
   "metadata": {},
   "source": [
    "## Plotting the Data\n",
    "* Use proper labeling of the plots using plot titles (including date of analysis) and axes labels.\n",
    "* Save the plotted figures as .pngs."
   ]
  },
  {
   "cell_type": "markdown",
   "metadata": {},
   "source": [
    "## Latitude vs. Temperature Plot"
   ]
  },
  {
   "cell_type": "code",
   "execution_count": 20,
   "metadata": {
    "scrolled": true
   },
   "outputs": [
    {
     "data": {
      "image/png": "[encoded data removed]",
      "text/plain": [
       "<Figure size 432x288 with 1 Axes>"
      ]
     },
     "metadata": {
      "needs_background": "light"
     },
     "output_type": "display_data"
    }
   ],
   "source": [
    "plt.scatter(weatherpy_city_data_df[\"Latitude\"], weatherpy_city_data_df[\"Max Temp\"], marker=\"o\", \n",
    "            facecolors=\"blue\", edgecolors=\"black\")\n",
    "\n",
    "# Labeling the graph\n",
    "plt.title(\"City Latitude v Max Temperature (4/01/2020)\")\n",
    "plt.xlabel(\"Latitude\")\n",
    "plt.ylabel(\"Max Temperature (F)\")\n",
    "\n",
    "# Set a grid on the plot\n",
    "plt.grid()\n",
    "\n",
    "# Saving fig as png\n",
    "plt.savefig(\"output_data/latitude_vs_maxtemp_plot.png\")\n",
    "          \n",
    "plt.show()"
   ]
  },
  {
   "cell_type": "markdown",
   "metadata": {},
   "source": [
    "The graph above shows a correlation relationship between the city's latitude and the max temperature of each city. What \n",
    "this plot is demonstrating is a possible linear relationship between the latitude of the cities and the highest temperatures\n",
    "documented in the cities. "
   ]
  },
  {
   "cell_type": "markdown",
   "metadata": {},
   "source": [
    "## Latitude vs. Humidity Plot"
   ]
  },
  {
   "cell_type": "code",
   "execution_count": 21,
   "metadata": {},
   "outputs": [
    {
     "data": {
      "image/png": "[encoded data removed]",
      "text/plain": [
       "<Figure size 432x288 with 1 Axes>"
      ]
     },
     "metadata": {
      "needs_background": "light"
     },
     "output_type": "display_data"
    }
   ],
   "source": [
    "plt.scatter(weatherpy_city_data_df[\"Latitude\"], weatherpy_city_data_df[\"Humidity\"], marker=\"o\", \n",
    "            facecolors=\"blue\", edgecolors=\"black\")\n",
    "\n",
    "# Labeling the graph\n",
    "plt.title(\"City Latitude v Humidity (4/01/2020)\")\n",
    "plt.xlabel(\"Latitude\")\n",
    "plt.ylabel(\"Humidity (%)\")\n",
    "\n",
    "# Set a grid on the plot\n",
    "plt.grid()\n",
    "\n",
    "# Saving fig as png\n",
    "plt.savefig(\"output_data/latitude_vs_humidity_plot.png\")\n",
    "          \n",
    "plt.show()"
   ]
  },
  {
   "cell_type": "markdown",
   "metadata": {},
   "source": [
    "The plot above is of the cities' latitude and the humidity documented for each city. This plot does not seem to shocase any sort of linear relationship or correlation between latitude and humity within the cities due to the. wide distrubition of the data points; however, there seems to be a cluster of humidity documentation above 50%."
   ]
  },
  {
   "cell_type": "markdown",
   "metadata": {},
   "source": [
    "## Latitude vs. Cloudiness Plot"
   ]
  },
  {
   "cell_type": "code",
   "execution_count": 22,
   "metadata": {},
   "outputs": [
    {
     "data": {
      "image/png": "[encoded data removed]",
      "text/plain": [
       "<Figure size 432x288 with 1 Axes>"
      ]
     },
     "metadata": {
      "needs_background": "light"
     },
     "output_type": "display_data"
    }
   ],
   "source": [
    "plt.scatter(weatherpy_city_data_df[\"Latitude\"], weatherpy_city_data_df[\"Cloudiness\"], marker=\"o\", \n",
    "            facecolors=\"blue\", edgecolors=\"black\")\n",
    "\n",
    "# Labeling the graph\n",
    "plt.title(\"City Latitude v Cloudiness (4/01/2020)\")\n",
    "plt.xlabel(\"Latitude\")\n",
    "plt.ylabel(\"Cloudiness (%)\")\n",
    "\n",
    "# Set a grid on the plot\n",
    "plt.grid()\n",
    "\n",
    "# Saving fig as png\n",
    "plt.savefig(\"output_data/latitude_vs_cloudiness_plot.png\")\n",
    "          \n",
    "plt.show()"
   ]
  },
  {
   "cell_type": "markdown",
   "metadata": {},
   "source": [
    "The plot sbove is of the latitudes and the cloudiness percentages of the cities randomly sampled. The data points are \n",
    "spread out randomly throughout the plot and does not seem to have a linear relationship, but there seems to be a cluster of \n",
    "data points around the cloudiness percentages of 0, 40, and 100."
   ]
  },
  {
   "cell_type": "markdown",
   "metadata": {},
   "source": [
    "## Latitude vs. Wind Speed Plot"
   ]
  },
  {
   "cell_type": "code",
   "execution_count": 23,
   "metadata": {},
   "outputs": [
    {
     "data": {
      "image/png": "[encoded data removed]",
      "text/plain": [
       "<Figure size 432x288 with 1 Axes>"
      ]
     },
     "metadata": {
      "needs_background": "light"
     },
     "output_type": "display_data"
    }
   ],
   "source": [
    "plt.scatter(weatherpy_city_data_df[\"Latitude\"], weatherpy_city_data_df[\"Wind Speed\"], marker=\"o\", \n",
    "            facecolors=\"blue\", edgecolors=\"black\")\n",
    "\n",
    "# Labeling the graph\n",
    "plt.title(\"City Latitude v Wind Speed (4/01/2020)\")\n",
    "plt.xlabel(\"Latitude\")\n",
    "plt.ylabel(\"Wind Speed (mph)\")\n",
    "\n",
    "# Set a grid on the plot\n",
    "plt.grid()\n",
    "\n",
    "# Saving fig as png\n",
    "plt.savefig(\"output_data/latitude_vs_windspeed_plot.png\")\n",
    "          \n",
    "plt.show()"
   ]
  },
  {
   "cell_type": "markdown",
   "metadata": {},
   "source": [
    "The plot above is above of of the latitudes and the wind speeds in mph of the cities. Although there does not seem to be a \n",
    "linear relationship between these variables, there is a cluster of data points observed for wind speeds below 15 mph with a few above 15 mph."
   ]
  },
  {
   "cell_type": "markdown",
   "metadata": {},
   "source": [
    "## Linear Regression"
   ]
  },
  {
   "cell_type": "code",
   "execution_count": 24,
   "metadata": {},
   "outputs": [],
   "source": [
    "# Creating Northern Hemisphere >= 0 and Southern Hemisphere <0 dataframes \n",
    "north_hem = weatherpy_city_data_df.loc[weatherpy_city_data_df[\"Latitude\"] >= 0]\n",
    "\n",
    "south_hem = weatherpy_city_data_df.loc[weatherpy_city_data_df[\"Latitude\"] < 0]"
   ]
  },
  {
   "cell_type": "markdown",
   "metadata": {},
   "source": [
    "####  Northern Hemisphere - Max Temp vs. Latitude Linear Regression"
   ]
  },
  {
   "cell_type": "code",
   "execution_count": 26,
   "metadata": {},
   "outputs": [
    {
     "name": "stdout",
     "output_type": "stream",
     "text": [
      "The r-squared is: -0.8135044569747353\n"
     ]
    },
    {
     "data": {
      "image/png": "[encoded data removed]",
      "text/plain": [
       "<Figure size 432x288 with 1 Axes>"
      ]
     },
     "metadata": {
      "needs_background": "light"
     },
     "output_type": "display_data"
    }
   ],
   "source": [
    "x_values = north_hem['Latitude']\n",
    "y_values = north_hem['Max Temp']\n",
    "(slope, intercept, rvalue, pvalue, stderr) = linregress(x_values, y_values)\n",
    "regress_values = x_values * slope + intercept\n",
    "line_eq = \"y = \" + str(round(slope,2)) + \"x + \" + str(round(intercept,2))\n",
    "plt.scatter(x_values,y_values)\n",
    "plt.plot(x_values,regress_values,\"r-\")\n",
    "plt.annotate(line_eq,(6,10),fontsize=15,color=\"red\")\n",
    "plt.xlabel('City Latitude')\n",
    "plt.ylabel('Max Temperature (F)')\n",
    "print(f\"The r-squared is: -{rvalue**2}\")\n",
    "\n",
    "# Saving fig as png\n",
    "plt.savefig(\"output_data/north_hem_maxtemp_vs_latitude_LR.png\")\n",
    "          \n",
    "plt.show()"
   ]
  },
  {
   "cell_type": "markdown",
   "metadata": {},
   "source": [
    "The graph above shows a linear regression plot of the northern hemisphere's city latitudes and the max temperatures. There is\n",
    "a downward slope between these varibles and given the negative correlation correffcient of 0.81, there is a negative linear\n",
    "relationship betweent the latitudes and max temperatures of the cities."
   ]
  },
  {
   "cell_type": "markdown",
   "metadata": {},
   "source": [
    "####  Southern Hemisphere - Max Temp vs. Latitude Linear Regression"
   ]
  },
  {
   "cell_type": "code",
   "execution_count": 37,
   "metadata": {},
   "outputs": [
    {
     "name": "stdout",
     "output_type": "stream",
     "text": [
      "The r-squared is: 0.765116739636812\n",
      "y = 0.9x + 92.72\n"
     ]
    },
    {
     "data": {
      "image/png": "[encoded data removed]",
      "text/plain": [
       "<Figure size 432x288 with 1 Axes>"
      ]
     },
     "metadata": {
      "needs_background": "light"
     },
     "output_type": "display_data"
    }
   ],
   "source": [
    "x_values = south_hem['Latitude']\n",
    "y_values = south_hem['Max Temp']\n",
    "(slope, intercept, rvalue, pvalue, stderr) = linregress(x_values, y_values)\n",
    "regress_values = x_values * slope + intercept\n",
    "line_eq = \"y = \" + str(round(slope,2)) + \"x + \" + str(round(intercept,2))\n",
    "plt.scatter(x_values,y_values)\n",
    "plt.plot(x_values,regress_values,\"r-\")\n",
    "plt.annotate(line_eq,(-30,45),fontsize=15,color=\"red\")\n",
    "plt.xlabel('Latitude')\n",
    "plt.ylabel('Max Temp')\n",
    "print(f\"The r-squared is: {rvalue**2}\")\n",
    "print(line_eq)\n",
    "\n",
    "# Saving fig as png\n",
    "plt.savefig(\"output_data/south_hem_maxtemp_vs_latitude_LR.png\")\n",
    "          \n",
    "plt.show()"
   ]
  },
  {
   "cell_type": "markdown",
   "metadata": {},
   "source": [
    "This figure above is a scatter plot of the southern hemisphere max temperature and latitude. Due to the upward slope of the\n",
    "regression line and given the positive correlation coeffcient of 0.77, this is a fairly strong and positive linear relationship."
   ]
  },
  {
   "cell_type": "markdown",
   "metadata": {},
   "source": [
    "####  Northern Hemisphere - Humidity (%) vs. Latitude Linear Regression"
   ]
  },
  {
   "cell_type": "code",
   "execution_count": 36,
   "metadata": {},
   "outputs": [
    {
     "name": "stdout",
     "output_type": "stream",
     "text": [
      "The r-squared is: 0.11734777560859139\n"
     ]
    },
    {
     "data": {
      "image/png": "[encoded data removed]",
      "text/plain": [
       "<Figure size 432x288 with 1 Axes>"
      ]
     },
     "metadata": {
      "needs_background": "light"
     },
     "output_type": "display_data"
    }
   ],
   "source": [
    "x_values = north_hem['Latitude']\n",
    "y_values = north_hem['Humidity']\n",
    "(slope, intercept, rvalue, pvalue, stderr) = linregress(x_values, y_values)\n",
    "regress_values = x_values * slope + intercept\n",
    "line_eq = \"y = \" + str(round(slope,2)) + \"x + \" + str(round(intercept,2))\n",
    "plt.scatter(x_values,y_values)\n",
    "plt.plot(x_values,regress_values,\"r-\")\n",
    "plt.annotate(line_eq,(6,10),fontsize=15,color=\"red\")\n",
    "plt.xlabel('City Latitude')\n",
    "plt.ylabel('Humidity (%)')\n",
    "print(f\"The r-squared is: {rvalue**2}\")\n",
    "\n",
    "# Saving fig as png\n",
    "plt.savefig(\"output_data/north_hem_humidity_vs_latitude_LR.png\")\n",
    "          \n",
    "plt.show()"
   ]
  },
  {
   "cell_type": "markdown",
   "metadata": {},
   "source": [
    "The figure above is of the northern hemisphere's latitude and humidity variables. The slope of the regression line is \n",
    "slightly upward and given that the correlation coeffecient is 0.1 and positive, there is a slight or very small positive linear \n",
    "relationship between these variables."
   ]
  },
  {
   "cell_type": "markdown",
   "metadata": {},
   "source": [
    "####  Southern Hemisphere - Humidity (%) vs. Latitude Linear Regression"
   ]
  },
  {
   "cell_type": "code",
   "execution_count": 39,
   "metadata": {},
   "outputs": [
    {
     "name": "stdout",
     "output_type": "stream",
     "text": [
      "The r-squared is: -0.014591772853055966\n",
      "y = -0.16x + 67.67\n"
     ]
    },
    {
     "data": {
      "image/png": "[encoded data removed]",
      "text/plain": [
       "<Figure size 432x288 with 1 Axes>"
      ]
     },
     "metadata": {
      "needs_background": "light"
     },
     "output_type": "display_data"
    }
   ],
   "source": [
    "x_values = south_hem['Latitude']\n",
    "y_values = south_hem['Humidity']\n",
    "(slope, intercept, rvalue, pvalue, stderr) = linregress(x_values, y_values)\n",
    "regress_values = x_values * slope + intercept\n",
    "line_eq = \"y = \" + str(round(slope,2)) + \"x + \" + str(round(intercept,2))\n",
    "plt.scatter(x_values,y_values)\n",
    "plt.plot(x_values,regress_values,\"r-\")\n",
    "plt.annotate(line_eq,(-30,45),fontsize=15,color=\"red\")\n",
    "plt.xlabel('Latitude')\n",
    "plt.ylabel('Humidity (%)')\n",
    "print(f\"The r-squared is: -{rvalue**2}\")\n",
    "print(line_eq)\n",
    "\n",
    "# Saving fig as png\n",
    "plt.savefig(\"output_data/south_hem_humidity_vs_latitude_LR.png\")\n",
    "          \n",
    "plt.show()"
   ]
  },
  {
   "cell_type": "markdown",
   "metadata": {},
   "source": [
    "The figure above is of the southern hemisphere cities' humidity percentages and latitudes. There seems to be a very weak negative relationship between these varibales given the negative and very small correlation coefficient of -0.01."
   ]
  },
  {
   "cell_type": "markdown",
   "metadata": {},
   "source": [
    "####  Northern Hemisphere - Cloudiness (%) vs. Latitude Linear Regression"
   ]
  },
  {
   "cell_type": "code",
   "execution_count": 40,
   "metadata": {},
   "outputs": [
    {
     "name": "stdout",
     "output_type": "stream",
     "text": [
      "The r-squared is: 0.12942282866922933\n"
     ]
    },
    {
     "data": {
      "image/png": "[encoded data removed]",
      "text/plain": [
       "<Figure size 432x288 with 1 Axes>"
      ]
     },
     "metadata": {
      "needs_background": "light"
     },
     "output_type": "display_data"
    }
   ],
   "source": [
    "x_values = north_hem['Latitude']\n",
    "y_values = north_hem['Cloudiness']\n",
    "(slope, intercept, rvalue, pvalue, stderr) = linregress(x_values, y_values)\n",
    "regress_values = x_values * slope + intercept\n",
    "line_eq = \"y = \" + str(round(slope,2)) + \"x + \" + str(round(intercept,2))\n",
    "plt.scatter(x_values,y_values)\n",
    "plt.plot(x_values,regress_values,\"r-\")\n",
    "plt.annotate(line_eq,(6,10),fontsize=15,color=\"red\")\n",
    "plt.xlabel('City Latitude')\n",
    "plt.ylabel('Cloudiness (%)')\n",
    "print(f\"The r-squared is: {rvalue**2}\")\n",
    "\n",
    "# Saving fig as png\n",
    "plt.savefig(\"output_data/north_hem_cloudiness_vs_latitude_LR.png\")\n",
    "          \n",
    "plt.show()"
   ]
  },
  {
   "cell_type": "markdown",
   "metadata": {},
   "source": [
    "The figure above is of the northern hemisphere's cloudiness percentages and city latitudes. The data points seem to be spread out, however the regression line's slope is upwards which means that there is a moderate positive relationship between the variables, since the correlation coeffcient is 0.13 which is positive."
   ]
  },
  {
   "cell_type": "markdown",
   "metadata": {},
   "source": [
    "####  Southern Hemisphere - Cloudiness (%) vs. Latitude Linear Regression"
   ]
  },
  {
   "cell_type": "code",
   "execution_count": 44,
   "metadata": {},
   "outputs": [
    {
     "name": "stdout",
     "output_type": "stream",
     "text": [
      "The r-squared is: 6.920548723678334e-05\n",
      "y = 0.02x + 44.2\n"
     ]
    },
    {
     "data": {
      "image/png": "[encoded data removed]",
      "text/plain": [
       "<Figure size 432x288 with 1 Axes>"
      ]
     },
     "metadata": {
      "needs_background": "light"
     },
     "output_type": "display_data"
    }
   ],
   "source": [
    "x_values = south_hem['Latitude']\n",
    "y_values = south_hem['Cloudiness']\n",
    "(slope, intercept, rvalue, pvalue, stderr) = linregress(x_values, y_values)\n",
    "regress_values = x_values * slope + intercept\n",
    "line_eq = \"y = \" + str(round(slope,2)) + \"x + \" + str(round(intercept,2))\n",
    "plt.scatter(x_values,y_values)\n",
    "plt.plot(x_values,regress_values,\"r-\")\n",
    "plt.annotate(line_eq,(-50,20),fontsize=15,color=\"red\")\n",
    "plt.xlabel('Latitude')\n",
    "plt.ylabel('Cloudiness (%)')\n",
    "print(f\"The r-squared is: {rvalue**2}\")\n",
    "print(line_eq)\n",
    "\n",
    "# Saving fig as png\n",
    "plt.savefig(\"output_data/south_hem_cloudiness_vs_latitude_LR.png\")\n",
    "          \n",
    "plt.show()"
   ]
  },
  {
   "cell_type": "markdown",
   "metadata": {},
   "source": [
    "The figure above shows a southern hemisphere's cloudiness percentages and latitudes. Since the data points are randomly distributed throughout the plot,and the correlation coefficient is above 1, there is no relationship between these two variables."
   ]
  },
  {
   "cell_type": "markdown",
   "metadata": {},
   "source": [
    "####  Northern Hemisphere - Wind Speed (mph) vs. Latitude Linear Regression"
   ]
  },
  {
   "cell_type": "code",
   "execution_count": 47,
   "metadata": {},
   "outputs": [
    {
     "name": "stdout",
     "output_type": "stream",
     "text": [
      "The r-squared is: -0.015436398582591684\n"
     ]
    },
    {
     "data": {
      "image/png": "[encoded data removed]",
      "text/plain": [
       "<Figure size 432x288 with 1 Axes>"
      ]
     },
     "metadata": {
      "needs_background": "light"
     },
     "output_type": "display_data"
    }
   ],
   "source": [
    "x_values = north_hem['Latitude']\n",
    "y_values = north_hem['Wind Speed']\n",
    "(slope, intercept, rvalue, pvalue, stderr) = linregress(x_values, y_values)\n",
    "regress_values = x_values * slope + intercept\n",
    "line_eq = \"y = \" + str(round(slope,2)) + \"x + \" + str(round(intercept,2))\n",
    "plt.scatter(x_values,y_values)\n",
    "plt.plot(x_values,regress_values,\"r-\")\n",
    "plt.annotate(line_eq,(50,20),fontsize=15,color=\"red\")\n",
    "plt.xlabel('City Latitude')\n",
    "plt.ylabel('Wind Speed (mph)')\n",
    "print(f\"The r-squared is: -{rvalue**2}\")\n",
    "\n",
    "# Saving fig as png\n",
    "plt.savefig(\"output_data/north_hem_wind_speed_vs_latitude_LR.png\")\n",
    "          \n",
    "plt.show()"
   ]
  },
  {
   "cell_type": "markdown",
   "metadata": {},
   "source": [
    "The figure above includes the northern hemisphere's wind speeds and latitudes. There is a slight negative relationship but it is weak due to the wide random distruction of the data points."
   ]
  },
  {
   "cell_type": "markdown",
   "metadata": {},
   "source": [
    "####  Southern Hemisphere - Wind Speed (mph) vs. Latitude Linear Regression"
   ]
  },
  {
   "cell_type": "code",
   "execution_count": 48,
   "metadata": {},
   "outputs": [
    {
     "name": "stdout",
     "output_type": "stream",
     "text": [
      "The r-squared is: 0.020875476245866133\n",
      "y = 0.06x + 10.69\n"
     ]
    },
    {
     "data": {
      "image/png": "[encoded data removed]",
      "text/plain": [
       "<Figure size 432x288 with 1 Axes>"
      ]
     },
     "metadata": {
      "needs_background": "light"
     },
     "output_type": "display_data"
    }
   ],
   "source": [
    "x_values = south_hem['Latitude']\n",
    "y_values = south_hem['Wind Speed']\n",
    "(slope, intercept, rvalue, pvalue, stderr) = linregress(x_values, y_values)\n",
    "regress_values = x_values * slope + intercept\n",
    "line_eq = \"y = \" + str(round(slope,2)) + \"x + \" + str(round(intercept,2))\n",
    "plt.scatter(x_values,y_values)\n",
    "plt.plot(x_values,regress_values,\"r-\")\n",
    "plt.annotate(line_eq,(-50,20),fontsize=15,color=\"red\")\n",
    "plt.xlabel('Latitude')\n",
    "plt.ylabel('Wind Speed (mph)')\n",
    "print(f\"The r-squared is: {rvalue**2}\")\n",
    "print(line_eq)\n",
    "\n",
    "# Saving fig as png\n",
    "plt.savefig(\"output_data/south_hem_wind_speed_vs_latitude_LR.png\")\n",
    "          \n",
    "plt.show()"
   ]
  },
  {
   "cell_type": "markdown",
   "metadata": {},
   "source": [
    "The figure above is of the southern hemisphere's wind speeds and latitudes. The relationship is positive but very weak given the correlation coefficient of 0.02 and the random distrubution of the data points."
   ]
  }
 ],
 "metadata": {
  "anaconda-cloud": {},
  "kernel_info": {
   "name": "python3"
  },
  "kernelspec": {
   "display_name": "Python 3",
   "language": "python",
   "name": "python3"
  },
  "language_info": {
   "codemirror_mode": {
    "name": "ipython",
    "version": 3
   },
   "file_extension": ".py",
   "mimetype": "text/x-python",
   "name": "python",
   "nbconvert_exporter": "python",
   "pygments_lexer": "ipython3",
   "version": "3.8.5"
  },
  "latex_envs": {
   "LaTeX_envs_menu_present": true,
   "autoclose": false,
   "autocomplete": true,
   "bibliofile": "biblio.bib",
   "cite_by": "apalike",
   "current_citInitial": 1,
   "eqLabelWithNumbers": true,
   "eqNumInitial": 1,
   "hotkeys": {
    "equation": "Ctrl-E",
    "itemize": "Ctrl-I"
   },
   "labels_anchors": false,
   "latex_user_defs": false,
   "report_style_numbering": false,
   "user_envs_cfg": false
  },
  "nteract": {
   "version": "0.12.3"
  }
 },
 "nbformat": 4,
 "nbformat_minor": 2
}
